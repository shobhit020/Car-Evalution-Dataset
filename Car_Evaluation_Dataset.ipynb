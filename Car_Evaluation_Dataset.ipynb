{
  "cells": [
    {
      "cell_type": "markdown",
      "metadata": {
        "id": "view-in-github",
        "colab_type": "text"
      },
      "source": [
        "<a href=\"https://colab.research.google.com/github/shobhit020/Car-Evalution-Dataset/blob/main/Car_Evaluation_Dataset.ipynb\" target=\"_parent\"><img src=\"https://colab.research.google.com/assets/colab-badge.svg\" alt=\"Open In Colab\"/></a>"
      ]
    },
    {
      "cell_type": "markdown",
      "id": "3bade111",
      "metadata": {
        "id": "3bade111"
      },
      "source": [
        "***Original dataset is from https://archive.ics.uci.edu/ml/datasets/Car+Evaluation*** \n",
        "\n",
        "\n",
        "***But Csv file is downloaded from https://www.kaggle.com/elikplim/car-evaluation-data-set?select=car_evaluation.csv***"
      ]
    },
    {
      "cell_type": "markdown",
      "id": "29cd503f",
      "metadata": {
        "id": "29cd503f"
      },
      "source": [
        "### Objective : Classify the condition of the car"
      ]
    },
    {
      "cell_type": "code",
      "execution_count": null,
      "id": "gbMLocNtrsXx",
      "metadata": {
        "id": "gbMLocNtrsXx"
      },
      "outputs": [],
      "source": [
        "from google.colab import drive\n",
        "drive.mount('/content/drive')"
      ]
    },
    {
      "cell_type": "code",
      "execution_count": null,
      "id": "9f1d20ab",
      "metadata": {
        "id": "9f1d20ab"
      },
      "outputs": [],
      "source": [
        "import numpy as np\n",
        "import pandas as pd\n",
        "import matplotlib.pyplot as plt\n",
        "import seaborn as sns\n",
        "%matplotlib inline"
      ]
    },
    {
      "cell_type": "code",
      "execution_count": null,
      "id": "f62588b2",
      "metadata": {
        "id": "f62588b2"
      },
      "outputs": [],
      "source": [
        "df = pd.read_csv('/content/drive/MyDrive/car_evaluation.csv',header=None)\n",
        "df.head()"
      ]
    },
    {
      "cell_type": "code",
      "execution_count": null,
      "id": "a66611eb",
      "metadata": {
        "id": "a66611eb",
        "outputId": "b178fb2d-daaf-464b-ac85-cd8648831d0b"
      },
      "outputs": [
        {
          "data": {
            "text/html": [
              "<div>\n",
              "<style scoped>\n",
              "    .dataframe tbody tr th:only-of-type {\n",
              "        vertical-align: middle;\n",
              "    }\n",
              "\n",
              "    .dataframe tbody tr th {\n",
              "        vertical-align: top;\n",
              "    }\n",
              "\n",
              "    .dataframe thead th {\n",
              "        text-align: right;\n",
              "    }\n",
              "</style>\n",
              "<table border=\"1\" class=\"dataframe\">\n",
              "  <thead>\n",
              "    <tr style=\"text-align: right;\">\n",
              "      <th></th>\n",
              "      <th>0</th>\n",
              "      <th>1</th>\n",
              "      <th>2</th>\n",
              "      <th>3</th>\n",
              "      <th>4</th>\n",
              "      <th>5</th>\n",
              "      <th>6</th>\n",
              "    </tr>\n",
              "  </thead>\n",
              "  <tbody>\n",
              "    <tr>\n",
              "      <th>0</th>\n",
              "      <td>vhigh</td>\n",
              "      <td>vhigh</td>\n",
              "      <td>2</td>\n",
              "      <td>2</td>\n",
              "      <td>small</td>\n",
              "      <td>low</td>\n",
              "      <td>unacc</td>\n",
              "    </tr>\n",
              "    <tr>\n",
              "      <th>1</th>\n",
              "      <td>vhigh</td>\n",
              "      <td>vhigh</td>\n",
              "      <td>2</td>\n",
              "      <td>2</td>\n",
              "      <td>small</td>\n",
              "      <td>med</td>\n",
              "      <td>unacc</td>\n",
              "    </tr>\n",
              "    <tr>\n",
              "      <th>2</th>\n",
              "      <td>vhigh</td>\n",
              "      <td>vhigh</td>\n",
              "      <td>2</td>\n",
              "      <td>2</td>\n",
              "      <td>small</td>\n",
              "      <td>high</td>\n",
              "      <td>unacc</td>\n",
              "    </tr>\n",
              "    <tr>\n",
              "      <th>3</th>\n",
              "      <td>vhigh</td>\n",
              "      <td>vhigh</td>\n",
              "      <td>2</td>\n",
              "      <td>2</td>\n",
              "      <td>med</td>\n",
              "      <td>low</td>\n",
              "      <td>unacc</td>\n",
              "    </tr>\n",
              "    <tr>\n",
              "      <th>4</th>\n",
              "      <td>vhigh</td>\n",
              "      <td>vhigh</td>\n",
              "      <td>2</td>\n",
              "      <td>2</td>\n",
              "      <td>med</td>\n",
              "      <td>med</td>\n",
              "      <td>unacc</td>\n",
              "    </tr>\n",
              "  </tbody>\n",
              "</table>\n",
              "</div>"
            ],
            "text/plain": [
              "       0      1  2  3      4     5      6\n",
              "0  vhigh  vhigh  2  2  small   low  unacc\n",
              "1  vhigh  vhigh  2  2  small   med  unacc\n",
              "2  vhigh  vhigh  2  2  small  high  unacc\n",
              "3  vhigh  vhigh  2  2    med   low  unacc\n",
              "4  vhigh  vhigh  2  2    med   med  unacc"
            ]
          },
          "execution_count": 2,
          "metadata": {},
          "output_type": "execute_result"
        }
      ],
      "source": [
        "df = pd.read_csv('car_evaluation.csv',header=None)\n",
        "df.head()"
      ]
    },
    {
      "cell_type": "code",
      "execution_count": null,
      "id": "ddf6eb09",
      "metadata": {
        "id": "ddf6eb09"
      },
      "outputs": [],
      "source": [
        "col_names = ['buying', 'maint', 'doors', 'persons', 'lug_boot', 'safety', 'class']"
      ]
    },
    {
      "cell_type": "code",
      "execution_count": null,
      "id": "dbfbee29",
      "metadata": {
        "id": "dbfbee29"
      },
      "outputs": [],
      "source": [
        "df.columns = col_names"
      ]
    },
    {
      "cell_type": "code",
      "execution_count": null,
      "id": "566ed8ef",
      "metadata": {
        "id": "566ed8ef",
        "scrolled": true,
        "outputId": "2aa2ea0b-60b9-42b8-88fd-e7c901b77fdc"
      },
      "outputs": [
        {
          "data": {
            "text/html": [
              "<div>\n",
              "<style scoped>\n",
              "    .dataframe tbody tr th:only-of-type {\n",
              "        vertical-align: middle;\n",
              "    }\n",
              "\n",
              "    .dataframe tbody tr th {\n",
              "        vertical-align: top;\n",
              "    }\n",
              "\n",
              "    .dataframe thead th {\n",
              "        text-align: right;\n",
              "    }\n",
              "</style>\n",
              "<table border=\"1\" class=\"dataframe\">\n",
              "  <thead>\n",
              "    <tr style=\"text-align: right;\">\n",
              "      <th></th>\n",
              "      <th>buying</th>\n",
              "      <th>maint</th>\n",
              "      <th>doors</th>\n",
              "      <th>persons</th>\n",
              "      <th>lug_boot</th>\n",
              "      <th>safety</th>\n",
              "      <th>class</th>\n",
              "    </tr>\n",
              "  </thead>\n",
              "  <tbody>\n",
              "    <tr>\n",
              "      <th>0</th>\n",
              "      <td>vhigh</td>\n",
              "      <td>vhigh</td>\n",
              "      <td>2</td>\n",
              "      <td>2</td>\n",
              "      <td>small</td>\n",
              "      <td>low</td>\n",
              "      <td>unacc</td>\n",
              "    </tr>\n",
              "    <tr>\n",
              "      <th>1</th>\n",
              "      <td>vhigh</td>\n",
              "      <td>vhigh</td>\n",
              "      <td>2</td>\n",
              "      <td>2</td>\n",
              "      <td>small</td>\n",
              "      <td>med</td>\n",
              "      <td>unacc</td>\n",
              "    </tr>\n",
              "    <tr>\n",
              "      <th>2</th>\n",
              "      <td>vhigh</td>\n",
              "      <td>vhigh</td>\n",
              "      <td>2</td>\n",
              "      <td>2</td>\n",
              "      <td>small</td>\n",
              "      <td>high</td>\n",
              "      <td>unacc</td>\n",
              "    </tr>\n",
              "    <tr>\n",
              "      <th>3</th>\n",
              "      <td>vhigh</td>\n",
              "      <td>vhigh</td>\n",
              "      <td>2</td>\n",
              "      <td>2</td>\n",
              "      <td>med</td>\n",
              "      <td>low</td>\n",
              "      <td>unacc</td>\n",
              "    </tr>\n",
              "    <tr>\n",
              "      <th>4</th>\n",
              "      <td>vhigh</td>\n",
              "      <td>vhigh</td>\n",
              "      <td>2</td>\n",
              "      <td>2</td>\n",
              "      <td>med</td>\n",
              "      <td>med</td>\n",
              "      <td>unacc</td>\n",
              "    </tr>\n",
              "  </tbody>\n",
              "</table>\n",
              "</div>"
            ],
            "text/plain": [
              "  buying  maint doors persons lug_boot safety  class\n",
              "0  vhigh  vhigh     2       2    small    low  unacc\n",
              "1  vhigh  vhigh     2       2    small    med  unacc\n",
              "2  vhigh  vhigh     2       2    small   high  unacc\n",
              "3  vhigh  vhigh     2       2      med    low  unacc\n",
              "4  vhigh  vhigh     2       2      med    med  unacc"
            ]
          },
          "execution_count": 5,
          "metadata": {},
          "output_type": "execute_result"
        }
      ],
      "source": [
        "df.head()"
      ]
    },
    {
      "cell_type": "code",
      "execution_count": null,
      "id": "7ce33e5a",
      "metadata": {
        "id": "7ce33e5a",
        "scrolled": true,
        "outputId": "fe72a78d-4939-4dac-fae2-76d835790418"
      },
      "outputs": [
        {
          "data": {
            "text/plain": [
              "(1728, 7)"
            ]
          },
          "execution_count": 6,
          "metadata": {},
          "output_type": "execute_result"
        }
      ],
      "source": [
        "df.shape"
      ]
    },
    {
      "cell_type": "code",
      "execution_count": null,
      "id": "544d79a3",
      "metadata": {
        "id": "544d79a3",
        "scrolled": true,
        "outputId": "5d934361-9210-41f6-d6da-462a044b979a"
      },
      "outputs": [
        {
          "name": "stdout",
          "output_type": "stream",
          "text": [
            "<class 'pandas.core.frame.DataFrame'>\n",
            "RangeIndex: 1728 entries, 0 to 1727\n",
            "Data columns (total 7 columns):\n",
            " #   Column    Non-Null Count  Dtype \n",
            "---  ------    --------------  ----- \n",
            " 0   buying    1728 non-null   object\n",
            " 1   maint     1728 non-null   object\n",
            " 2   doors     1728 non-null   object\n",
            " 3   persons   1728 non-null   object\n",
            " 4   lug_boot  1728 non-null   object\n",
            " 5   safety    1728 non-null   object\n",
            " 6   class     1728 non-null   object\n",
            "dtypes: object(7)\n",
            "memory usage: 94.6+ KB\n"
          ]
        }
      ],
      "source": [
        "df.info()"
      ]
    },
    {
      "cell_type": "markdown",
      "id": "a21ddc43",
      "metadata": {
        "id": "a21ddc43"
      },
      "source": [
        "***We can see there is no NULL values in our dataset***"
      ]
    },
    {
      "cell_type": "code",
      "execution_count": null,
      "id": "8e32ae90",
      "metadata": {
        "id": "8e32ae90"
      },
      "outputs": [],
      "source": [
        "data = df.copy()"
      ]
    },
    {
      "cell_type": "code",
      "execution_count": null,
      "id": "5ed9652c",
      "metadata": {
        "id": "5ed9652c",
        "outputId": "0f931fd7-f6d5-40da-9c15-a8ce1d0180c2"
      },
      "outputs": [
        {
          "data": {
            "text/html": [
              "<div>\n",
              "<style scoped>\n",
              "    .dataframe tbody tr th:only-of-type {\n",
              "        vertical-align: middle;\n",
              "    }\n",
              "\n",
              "    .dataframe tbody tr th {\n",
              "        vertical-align: top;\n",
              "    }\n",
              "\n",
              "    .dataframe thead th {\n",
              "        text-align: right;\n",
              "    }\n",
              "</style>\n",
              "<table border=\"1\" class=\"dataframe\">\n",
              "  <thead>\n",
              "    <tr style=\"text-align: right;\">\n",
              "      <th></th>\n",
              "      <th>buying</th>\n",
              "      <th>maint</th>\n",
              "      <th>doors</th>\n",
              "      <th>persons</th>\n",
              "      <th>lug_boot</th>\n",
              "      <th>safety</th>\n",
              "      <th>class</th>\n",
              "    </tr>\n",
              "  </thead>\n",
              "  <tbody>\n",
              "    <tr>\n",
              "      <th>0</th>\n",
              "      <td>vhigh</td>\n",
              "      <td>vhigh</td>\n",
              "      <td>2</td>\n",
              "      <td>2</td>\n",
              "      <td>small</td>\n",
              "      <td>low</td>\n",
              "      <td>unacc</td>\n",
              "    </tr>\n",
              "    <tr>\n",
              "      <th>1</th>\n",
              "      <td>vhigh</td>\n",
              "      <td>vhigh</td>\n",
              "      <td>2</td>\n",
              "      <td>2</td>\n",
              "      <td>small</td>\n",
              "      <td>med</td>\n",
              "      <td>unacc</td>\n",
              "    </tr>\n",
              "    <tr>\n",
              "      <th>2</th>\n",
              "      <td>vhigh</td>\n",
              "      <td>vhigh</td>\n",
              "      <td>2</td>\n",
              "      <td>2</td>\n",
              "      <td>small</td>\n",
              "      <td>high</td>\n",
              "      <td>unacc</td>\n",
              "    </tr>\n",
              "    <tr>\n",
              "      <th>3</th>\n",
              "      <td>vhigh</td>\n",
              "      <td>vhigh</td>\n",
              "      <td>2</td>\n",
              "      <td>2</td>\n",
              "      <td>med</td>\n",
              "      <td>low</td>\n",
              "      <td>unacc</td>\n",
              "    </tr>\n",
              "    <tr>\n",
              "      <th>4</th>\n",
              "      <td>vhigh</td>\n",
              "      <td>vhigh</td>\n",
              "      <td>2</td>\n",
              "      <td>2</td>\n",
              "      <td>med</td>\n",
              "      <td>med</td>\n",
              "      <td>unacc</td>\n",
              "    </tr>\n",
              "  </tbody>\n",
              "</table>\n",
              "</div>"
            ],
            "text/plain": [
              "  buying  maint doors persons lug_boot safety  class\n",
              "0  vhigh  vhigh     2       2    small    low  unacc\n",
              "1  vhigh  vhigh     2       2    small    med  unacc\n",
              "2  vhigh  vhigh     2       2    small   high  unacc\n",
              "3  vhigh  vhigh     2       2      med    low  unacc\n",
              "4  vhigh  vhigh     2       2      med    med  unacc"
            ]
          },
          "execution_count": 9,
          "metadata": {},
          "output_type": "execute_result"
        }
      ],
      "source": [
        "data.head()"
      ]
    },
    {
      "cell_type": "markdown",
      "id": "a7bd3a15",
      "metadata": {
        "id": "a7bd3a15"
      },
      "source": [
        "## EDA"
      ]
    },
    {
      "cell_type": "code",
      "execution_count": null,
      "id": "fd82d62c",
      "metadata": {
        "id": "fd82d62c",
        "outputId": "a9356500-cf5a-4e69-952e-459ff214fc41"
      },
      "outputs": [
        {
          "data": {
            "text/plain": [
              "buying      4\n",
              "maint       4\n",
              "doors       4\n",
              "persons     3\n",
              "lug_boot    3\n",
              "safety      3\n",
              "class       4\n",
              "dtype: int64"
            ]
          },
          "execution_count": 10,
          "metadata": {},
          "output_type": "execute_result"
        }
      ],
      "source": [
        "data.nunique()"
      ]
    },
    {
      "cell_type": "markdown",
      "id": "ddafd637",
      "metadata": {
        "id": "ddafd637"
      },
      "source": [
        "*As we can observe there are only few different categories in each feature*"
      ]
    },
    {
      "cell_type": "markdown",
      "id": "50b55ba2",
      "metadata": {
        "id": "50b55ba2"
      },
      "source": [
        "**Now let's observe each feature seperately**"
      ]
    },
    {
      "cell_type": "code",
      "execution_count": null,
      "id": "3f98dcfb",
      "metadata": {
        "id": "3f98dcfb",
        "outputId": "251e42d0-3dfb-4b92-c77a-9077ce8841c9"
      },
      "outputs": [
        {
          "name": "stdout",
          "output_type": "stream",
          "text": [
            "vhigh    432\n",
            "high     432\n",
            "med      432\n",
            "low      432\n",
            "Name: buying, dtype: int64\n",
            "\n",
            "\n",
            "vhigh    432\n",
            "high     432\n",
            "med      432\n",
            "low      432\n",
            "Name: maint, dtype: int64\n",
            "\n",
            "\n",
            "2        432\n",
            "3        432\n",
            "4        432\n",
            "5more    432\n",
            "Name: doors, dtype: int64\n",
            "\n",
            "\n",
            "2       576\n",
            "4       576\n",
            "more    576\n",
            "Name: persons, dtype: int64\n",
            "\n",
            "\n",
            "small    576\n",
            "med      576\n",
            "big      576\n",
            "Name: lug_boot, dtype: int64\n",
            "\n",
            "\n",
            "low     576\n",
            "med     576\n",
            "high    576\n",
            "Name: safety, dtype: int64\n",
            "\n",
            "\n",
            "unacc    1210\n",
            "acc       384\n",
            "good       69\n",
            "vgood      65\n",
            "Name: class, dtype: int64\n",
            "\n",
            "\n"
          ]
        }
      ],
      "source": [
        "for i in data.columns:\n",
        "    print(data[i].value_counts())\n",
        "    print('\\n')"
      ]
    },
    {
      "cell_type": "markdown",
      "id": "41b41a56",
      "metadata": {
        "id": "41b41a56"
      },
      "source": [
        "## VISUALIZATION"
      ]
    },
    {
      "cell_type": "code",
      "execution_count": null,
      "id": "3e3586c0",
      "metadata": {
        "id": "3e3586c0"
      },
      "outputs": [],
      "source": [
        "import warnings\n",
        "warnings.filterwarnings('ignore')"
      ]
    },
    {
      "cell_type": "code",
      "execution_count": null,
      "id": "78e4fc42",
      "metadata": {
        "id": "78e4fc42"
      },
      "outputs": [],
      "source": [
        "sns.set_style(style='whitegrid')"
      ]
    },
    {
      "cell_type": "code",
      "execution_count": null,
      "id": "2208c42f",
      "metadata": {
        "id": "2208c42f",
        "outputId": "2704dcae-6147-498f-864b-82ed05701681"
      },
      "outputs": [
        {
          "data": {
            "image/png": "[encoded data removed]",
            "text/plain": [
              "<Figure size 432x288 with 1 Axes>"
            ]
          },
          "metadata": {},
          "output_type": "display_data"
        }
      ],
      "source": [
        "sns.countplot(data['class']);"
      ]
    },
    {
      "cell_type": "code",
      "execution_count": null,
      "id": "1619a603",
      "metadata": {
        "id": "1619a603",
        "scrolled": false,
        "outputId": "4bb87f6b-8ad1-4abb-e272-dad8f8181409"
      },
      "outputs": [
        {
          "data": {
            "image/png": "[encoded data removed]",
            "text/plain": [
              "<Figure size 864x432 with 1 Axes>"
            ]
          },
          "metadata": {},
          "output_type": "display_data"
        },
        {
          "data": {
            "image/png": "[encoded data removed]",
            "text/plain": [
              "<Figure size 864x432 with 1 Axes>"
            ]
          },
          "metadata": {},
          "output_type": "display_data"
        },
        {
          "data": {
            "image/png": "[encoded data removed]",
            "text/plain": [
              "<Figure size 864x432 with 1 Axes>"
            ]
          },
          "metadata": {},
          "output_type": "display_data"
        },
        {
          "data": {
            "image/png": "[encoded data removed]",
            "text/plain": [
              "<Figure size 864x432 with 1 Axes>"
            ]
          },
          "metadata": {},
          "output_type": "display_data"
        },
        {
          "data": {
            "image/png": "[encoded data removed]",
            "text/plain": [
              "<Figure size 864x432 with 1 Axes>"
            ]
          },
          "metadata": {},
          "output_type": "display_data"
        },
        {
          "data": {
            "image/png": "[encoded data removed]",
            "text/plain": [
              "<Figure size 864x432 with 1 Axes>"
            ]
          },
          "metadata": {},
          "output_type": "display_data"
        }
      ],
      "source": [
        "for i in data.columns[:-1]:\n",
        "    plt.figure(figsize=(12,6))\n",
        "    plt.title(\"For feature '%s'\"%i)\n",
        "    sns.countplot(data[i],hue=data['class']);"
      ]
    },
    {
      "cell_type": "markdown",
      "id": "10c9b636",
      "metadata": {
        "id": "10c9b636"
      },
      "source": [
        "## Dummifying categories into integer values"
      ]
    },
    {
      "cell_type": "code",
      "execution_count": null,
      "id": "Uc0Q6XJttqwb",
      "metadata": {
        "id": "Uc0Q6XJttqwb",
        "outputId": "6881566f-d0f8-4dbf-b5c3-6e34dbde2f68"
      },
      "outputs": [
        {
          "name": "stdout",
          "output_type": "stream",
          "text": [
            "Requirement already satisfied: category_encoders in c:\\users\\shobhit\\anaconda3\\lib\\site-packages (2.4.0)\n",
            "Requirement already satisfied: pandas>=0.21.1 in c:\\users\\shobhit\\anaconda3\\lib\\site-packages (from category_encoders) (1.4.1)\n",
            "Requirement already satisfied: scikit-learn>=0.20.0 in c:\\users\\shobhit\\anaconda3\\lib\\site-packages (from category_encoders) (1.0.2)\n",
            "Requirement already satisfied: statsmodels>=0.9.0 in c:\\users\\shobhit\\anaconda3\\lib\\site-packages (from category_encoders) (0.12.2)\n",
            "Requirement already satisfied: numpy>=1.14.0 in c:\\users\\shobhit\\anaconda3\\lib\\site-packages (from category_encoders) (1.22.3)\n",
            "Requirement already satisfied: scipy>=1.0.0 in c:\\users\\shobhit\\anaconda3\\lib\\site-packages (from category_encoders) (1.6.2)\n",
            "Requirement already satisfied: patsy>=0.5.1 in c:\\users\\shobhit\\anaconda3\\lib\\site-packages (from category_encoders) (0.5.2)\n",
            "Requirement already satisfied: pytz>=2020.1 in c:\\users\\shobhit\\anaconda3\\lib\\site-packages (from pandas>=0.21.1->category_encoders) (2021.3)\n",
            "Requirement already satisfied: python-dateutil>=2.8.1 in c:\\users\\shobhit\\anaconda3\\lib\\site-packages (from pandas>=0.21.1->category_encoders) (2.8.2)\n",
            "Requirement already satisfied: six in c:\\users\\shobhit\\anaconda3\\lib\\site-packages (from patsy>=0.5.1->category_encoders) (1.16.0)\n",
            "Requirement already satisfied: joblib>=0.11 in c:\\users\\shobhit\\anaconda3\\lib\\site-packages (from scikit-learn>=0.20.0->category_encoders) (1.0.1)\n",
            "Requirement already satisfied: threadpoolctl>=2.0.0 in c:\\users\\shobhit\\anaconda3\\lib\\site-packages (from scikit-learn>=0.20.0->category_encoders) (2.2.0)\n"
          ]
        }
      ],
      "source": [
        "!pip install --upgrade category_encoders"
      ]
    },
    {
      "cell_type": "code",
      "execution_count": null,
      "id": "903d46fa",
      "metadata": {
        "id": "903d46fa"
      },
      "outputs": [],
      "source": [
        "import category_encoders as ce"
      ]
    },
    {
      "cell_type": "code",
      "execution_count": null,
      "id": "c8db8329",
      "metadata": {
        "id": "c8db8329",
        "outputId": "39bb590a-0a4f-4b72-b742-d34a16bb82cf"
      },
      "outputs": [
        {
          "data": {
            "text/plain": [
              "Index(['buying', 'maint', 'doors', 'persons', 'lug_boot', 'safety', 'class'], dtype='object')"
            ]
          },
          "execution_count": 18,
          "metadata": {},
          "output_type": "execute_result"
        }
      ],
      "source": [
        "df.columns"
      ]
    },
    {
      "cell_type": "code",
      "execution_count": null,
      "id": "7ecbbac9",
      "metadata": {
        "id": "7ecbbac9"
      },
      "outputs": [],
      "source": [
        "encoder = ce.OrdinalEncoder(cols=['buying', 'maint', 'doors', 'persons', 'lug_boot', 'safety','class'])"
      ]
    },
    {
      "cell_type": "code",
      "execution_count": null,
      "id": "seIbi5KEui8f",
      "metadata": {
        "id": "seIbi5KEui8f",
        "outputId": "df10954c-b685-4e8d-b298-547107051e0f"
      },
      "outputs": [
        {
          "data": {
            "text/html": [
              "<div>\n",
              "<style scoped>\n",
              "    .dataframe tbody tr th:only-of-type {\n",
              "        vertical-align: middle;\n",
              "    }\n",
              "\n",
              "    .dataframe tbody tr th {\n",
              "        vertical-align: top;\n",
              "    }\n",
              "\n",
              "    .dataframe thead th {\n",
              "        text-align: right;\n",
              "    }\n",
              "</style>\n",
              "<table border=\"1\" class=\"dataframe\">\n",
              "  <thead>\n",
              "    <tr style=\"text-align: right;\">\n",
              "      <th></th>\n",
              "      <th>buying</th>\n",
              "      <th>maint</th>\n",
              "      <th>doors</th>\n",
              "      <th>persons</th>\n",
              "      <th>lug_boot</th>\n",
              "      <th>safety</th>\n",
              "      <th>class</th>\n",
              "    </tr>\n",
              "  </thead>\n",
              "  <tbody>\n",
              "    <tr>\n",
              "      <th>0</th>\n",
              "      <td>1</td>\n",
              "      <td>1</td>\n",
              "      <td>1</td>\n",
              "      <td>1</td>\n",
              "      <td>1</td>\n",
              "      <td>1</td>\n",
              "      <td>1</td>\n",
              "    </tr>\n",
              "    <tr>\n",
              "      <th>1</th>\n",
              "      <td>1</td>\n",
              "      <td>1</td>\n",
              "      <td>1</td>\n",
              "      <td>1</td>\n",
              "      <td>1</td>\n",
              "      <td>2</td>\n",
              "      <td>1</td>\n",
              "    </tr>\n",
              "    <tr>\n",
              "      <th>2</th>\n",
              "      <td>1</td>\n",
              "      <td>1</td>\n",
              "      <td>1</td>\n",
              "      <td>1</td>\n",
              "      <td>1</td>\n",
              "      <td>3</td>\n",
              "      <td>1</td>\n",
              "    </tr>\n",
              "    <tr>\n",
              "      <th>3</th>\n",
              "      <td>1</td>\n",
              "      <td>1</td>\n",
              "      <td>1</td>\n",
              "      <td>1</td>\n",
              "      <td>2</td>\n",
              "      <td>1</td>\n",
              "      <td>1</td>\n",
              "    </tr>\n",
              "    <tr>\n",
              "      <th>4</th>\n",
              "      <td>1</td>\n",
              "      <td>1</td>\n",
              "      <td>1</td>\n",
              "      <td>1</td>\n",
              "      <td>2</td>\n",
              "      <td>2</td>\n",
              "      <td>1</td>\n",
              "    </tr>\n",
              "  </tbody>\n",
              "</table>\n",
              "</div>"
            ],
            "text/plain": [
              "   buying  maint  doors  persons  lug_boot  safety  class\n",
              "0       1      1      1        1         1       1      1\n",
              "1       1      1      1        1         1       2      1\n",
              "2       1      1      1        1         1       3      1\n",
              "3       1      1      1        1         2       1      1\n",
              "4       1      1      1        1         2       2      1"
            ]
          },
          "execution_count": 20,
          "metadata": {},
          "output_type": "execute_result"
        }
      ],
      "source": [
        "data = encoder.fit_transform(data)\n",
        "data.head()"
      ]
    },
    {
      "cell_type": "markdown",
      "id": "1d4b21c2",
      "metadata": {
        "id": "1d4b21c2"
      },
      "source": [
        "## Train Test Split"
      ]
    },
    {
      "cell_type": "code",
      "execution_count": null,
      "id": "a380416b",
      "metadata": {
        "id": "a380416b"
      },
      "outputs": [],
      "source": [
        "X = data.drop('class',axis=1)\n",
        "y = data['class']"
      ]
    },
    {
      "cell_type": "code",
      "execution_count": null,
      "id": "2fab3aec",
      "metadata": {
        "id": "2fab3aec"
      },
      "outputs": [],
      "source": [
        "from sklearn.model_selection import train_test_split,cross_val_score"
      ]
    },
    {
      "cell_type": "code",
      "execution_count": null,
      "id": "fec42a9f",
      "metadata": {
        "id": "fec42a9f"
      },
      "outputs": [],
      "source": [
        "X_train, X_test, y_train, y_test = train_test_split(X, y, test_size=0.3, random_state=42)"
      ]
    },
    {
      "cell_type": "code",
      "execution_count": null,
      "id": "lywd73H9v5iK",
      "metadata": {
        "id": "lywd73H9v5iK",
        "outputId": "21f1c050-263b-4c86-e47a-19c2c2256f18"
      },
      "outputs": [
        {
          "name": "stdout",
          "output_type": "stream",
          "text": [
            "X_train: (1209, 6)\n",
            "X_test: (519, 6)\n",
            "Y_train: (1209,)\n",
            "Y_test: (519,)\n"
          ]
        }
      ],
      "source": [
        "print(\"X_train: {}\".format(X_train.shape))\n",
        "print(\"X_test: {}\".format(X_test.shape))\n",
        "print(\"Y_train: {}\".format(y_train.shape))\n",
        "print(\"Y_test: {}\".format(y_test.shape))"
      ]
    },
    {
      "cell_type": "code",
      "execution_count": null,
      "id": "0caeaf7Hw-oD",
      "metadata": {
        "id": "0caeaf7Hw-oD",
        "outputId": "5b24656b-891e-4c59-d699-93e5b30dfd20"
      },
      "outputs": [
        {
          "data": {
            "text/html": [
              "<div>\n",
              "<style scoped>\n",
              "    .dataframe tbody tr th:only-of-type {\n",
              "        vertical-align: middle;\n",
              "    }\n",
              "\n",
              "    .dataframe tbody tr th {\n",
              "        vertical-align: top;\n",
              "    }\n",
              "\n",
              "    .dataframe thead th {\n",
              "        text-align: right;\n",
              "    }\n",
              "</style>\n",
              "<table border=\"1\" class=\"dataframe\">\n",
              "  <thead>\n",
              "    <tr style=\"text-align: right;\">\n",
              "      <th></th>\n",
              "      <th>buying</th>\n",
              "      <th>maint</th>\n",
              "      <th>doors</th>\n",
              "      <th>persons</th>\n",
              "      <th>lug_boot</th>\n",
              "      <th>safety</th>\n",
              "    </tr>\n",
              "  </thead>\n",
              "  <tbody>\n",
              "    <tr>\n",
              "      <th>1178</th>\n",
              "      <td>3</td>\n",
              "      <td>3</td>\n",
              "      <td>4</td>\n",
              "      <td>2</td>\n",
              "      <td>3</td>\n",
              "      <td>3</td>\n",
              "    </tr>\n",
              "    <tr>\n",
              "      <th>585</th>\n",
              "      <td>2</td>\n",
              "      <td>2</td>\n",
              "      <td>2</td>\n",
              "      <td>3</td>\n",
              "      <td>1</td>\n",
              "      <td>1</td>\n",
              "    </tr>\n",
              "    <tr>\n",
              "      <th>1552</th>\n",
              "      <td>4</td>\n",
              "      <td>3</td>\n",
              "      <td>2</td>\n",
              "      <td>2</td>\n",
              "      <td>2</td>\n",
              "      <td>2</td>\n",
              "    </tr>\n",
              "    <tr>\n",
              "      <th>1169</th>\n",
              "      <td>3</td>\n",
              "      <td>3</td>\n",
              "      <td>4</td>\n",
              "      <td>1</td>\n",
              "      <td>3</td>\n",
              "      <td>3</td>\n",
              "    </tr>\n",
              "    <tr>\n",
              "      <th>1033</th>\n",
              "      <td>3</td>\n",
              "      <td>2</td>\n",
              "      <td>3</td>\n",
              "      <td>1</td>\n",
              "      <td>3</td>\n",
              "      <td>2</td>\n",
              "    </tr>\n",
              "    <tr>\n",
              "      <th>...</th>\n",
              "      <td>...</td>\n",
              "      <td>...</td>\n",
              "      <td>...</td>\n",
              "      <td>...</td>\n",
              "      <td>...</td>\n",
              "      <td>...</td>\n",
              "    </tr>\n",
              "    <tr>\n",
              "      <th>1130</th>\n",
              "      <td>3</td>\n",
              "      <td>3</td>\n",
              "      <td>2</td>\n",
              "      <td>3</td>\n",
              "      <td>2</td>\n",
              "      <td>3</td>\n",
              "    </tr>\n",
              "    <tr>\n",
              "      <th>1294</th>\n",
              "      <td>3</td>\n",
              "      <td>4</td>\n",
              "      <td>4</td>\n",
              "      <td>3</td>\n",
              "      <td>3</td>\n",
              "      <td>2</td>\n",
              "    </tr>\n",
              "    <tr>\n",
              "      <th>860</th>\n",
              "      <td>2</td>\n",
              "      <td>4</td>\n",
              "      <td>4</td>\n",
              "      <td>3</td>\n",
              "      <td>2</td>\n",
              "      <td>3</td>\n",
              "    </tr>\n",
              "    <tr>\n",
              "      <th>1459</th>\n",
              "      <td>4</td>\n",
              "      <td>2</td>\n",
              "      <td>3</td>\n",
              "      <td>1</td>\n",
              "      <td>1</td>\n",
              "      <td>2</td>\n",
              "    </tr>\n",
              "    <tr>\n",
              "      <th>1126</th>\n",
              "      <td>3</td>\n",
              "      <td>3</td>\n",
              "      <td>2</td>\n",
              "      <td>3</td>\n",
              "      <td>1</td>\n",
              "      <td>2</td>\n",
              "    </tr>\n",
              "  </tbody>\n",
              "</table>\n",
              "<p>1209 rows × 6 columns</p>\n",
              "</div>"
            ],
            "text/plain": [
              "      buying  maint  doors  persons  lug_boot  safety\n",
              "1178       3      3      4        2         3       3\n",
              "585        2      2      2        3         1       1\n",
              "1552       4      3      2        2         2       2\n",
              "1169       3      3      4        1         3       3\n",
              "1033       3      2      3        1         3       2\n",
              "...      ...    ...    ...      ...       ...     ...\n",
              "1130       3      3      2        3         2       3\n",
              "1294       3      4      4        3         3       2\n",
              "860        2      4      4        3         2       3\n",
              "1459       4      2      3        1         1       2\n",
              "1126       3      3      2        3         1       2\n",
              "\n",
              "[1209 rows x 6 columns]"
            ]
          },
          "execution_count": 25,
          "metadata": {},
          "output_type": "execute_result"
        }
      ],
      "source": [
        "X_train"
      ]
    },
    {
      "cell_type": "code",
      "execution_count": null,
      "id": "a3XErQt9xi1q",
      "metadata": {
        "id": "a3XErQt9xi1q"
      },
      "outputs": [],
      "source": [
        "from sklearn.linear_model import LogisticRegression\n",
        "from sklearn.neighbors import KNeighborsClassifier\n",
        "from sklearn import tree\n",
        "from sklearn.tree import DecisionTreeClassifier\n",
        "from sklearn.naive_bayes import GaussianNB,BernoulliNB\n",
        "from sklearn.ensemble import RandomForestClassifier,GradientBoostingClassifier,AdaBoostClassifier\n",
        "from sklearn.svm import SVC\n",
        "from xgboost import XGBClassifier\n",
        "from sklearn.model_selection import GridSearchCV,RandomizedSearchCV\n",
        "\n",
        "from sklearn.preprocessing import StandardScaler\n",
        "from sklearn.metrics import classification_report,confusion_matrix,accuracy_score"
      ]
    },
    {
      "cell_type": "markdown",
      "id": "dpm0hP2YwZbs",
      "metadata": {
        "id": "dpm0hP2YwZbs"
      },
      "source": [
        "## LOGISTIC REGRESSION"
      ]
    },
    {
      "cell_type": "code",
      "execution_count": null,
      "id": "8U1m0Za362aE",
      "metadata": {
        "id": "8U1m0Za362aE"
      },
      "outputs": [],
      "source": [
        "c_space = np.logspace(-5, 8, 15)\n",
        "param_grid = {'C': c_space}"
      ]
    },
    {
      "cell_type": "code",
      "execution_count": null,
      "id": "kdQTmPqhwYTk",
      "metadata": {
        "id": "kdQTmPqhwYTk"
      },
      "outputs": [],
      "source": [
        "lr = LogisticRegression()"
      ]
    },
    {
      "cell_type": "code",
      "execution_count": null,
      "id": "W0bSSa-W7B7e",
      "metadata": {
        "id": "W0bSSa-W7B7e"
      },
      "outputs": [],
      "source": [
        "lr_cv = GridSearchCV(lr, param_grid, cv = 5)"
      ]
    },
    {
      "cell_type": "code",
      "execution_count": null,
      "id": "XmhkDTGdwYMf",
      "metadata": {
        "id": "XmhkDTGdwYMf",
        "outputId": "876c189b-b9ad-42a3-fa2d-f58a0e4aaa80"
      },
      "outputs": [
        {
          "data": {
            "text/plain": [
              "GridSearchCV(cv=5, estimator=LogisticRegression(),\n",
              "             param_grid={'C': array([1.00000000e-05, 8.48342898e-05, 7.19685673e-04, 6.10540230e-03,\n",
              "       5.17947468e-02, 4.39397056e-01, 3.72759372e+00, 3.16227766e+01,\n",
              "       2.68269580e+02, 2.27584593e+03, 1.93069773e+04, 1.63789371e+05,\n",
              "       1.38949549e+06, 1.17876863e+07, 1.00000000e+08])})"
            ]
          },
          "execution_count": 30,
          "metadata": {},
          "output_type": "execute_result"
        }
      ],
      "source": [
        "lr_cv.fit(X_train,y_train)"
      ]
    },
    {
      "cell_type": "code",
      "execution_count": null,
      "id": "ufjzz7Ik7cM5",
      "metadata": {
        "id": "ufjzz7Ik7cM5",
        "outputId": "1c65396b-e31c-40ab-a5fe-07b722111d40"
      },
      "outputs": [
        {
          "data": {
            "text/plain": [
              "{'C': 3.727593720314938}"
            ]
          },
          "execution_count": 31,
          "metadata": {},
          "output_type": "execute_result"
        }
      ],
      "source": [
        "lr_cv.best_params_"
      ]
    },
    {
      "cell_type": "code",
      "execution_count": null,
      "id": "gLjr5M-n79pb",
      "metadata": {
        "id": "gLjr5M-n79pb"
      },
      "outputs": [],
      "source": [
        "logreg = LogisticRegression(**lr_cv.best_params_)"
      ]
    },
    {
      "cell_type": "code",
      "execution_count": null,
      "id": "t-Jv2A4F79jp",
      "metadata": {
        "id": "t-Jv2A4F79jp",
        "outputId": "c47154b9-9fff-4e1a-f7be-225d8b6d3c1e"
      },
      "outputs": [
        {
          "data": {
            "text/plain": [
              "LogisticRegression(C=3.727593720314938)"
            ]
          },
          "execution_count": 33,
          "metadata": {},
          "output_type": "execute_result"
        }
      ],
      "source": [
        "logreg.fit(X_train,y_train)"
      ]
    },
    {
      "cell_type": "code",
      "execution_count": null,
      "id": "TnrthYWs79f8",
      "metadata": {
        "id": "TnrthYWs79f8"
      },
      "outputs": [],
      "source": [
        "y_pred = logreg.predict(X_test)"
      ]
    },
    {
      "cell_type": "code",
      "execution_count": null,
      "id": "NPXNCBeF8IH4",
      "metadata": {
        "id": "NPXNCBeF8IH4",
        "outputId": "e0dcb5b1-aa30-4bda-ff77-abb564bb675a"
      },
      "outputs": [
        {
          "name": "stdout",
          "output_type": "stream",
          "text": [
            "              precision    recall  f1-score   support\n",
            "\n",
            "           1       0.87      0.93      0.90       358\n",
            "           2       0.69      0.58      0.63       118\n",
            "           3       0.74      0.71      0.72        24\n",
            "           4       0.56      0.47      0.51        19\n",
            "\n",
            "    accuracy                           0.82       519\n",
            "   macro avg       0.72      0.67      0.69       519\n",
            "weighted avg       0.81      0.82      0.82       519\n",
            "\n"
          ]
        }
      ],
      "source": [
        "print(classification_report(y_test,y_pred))"
      ]
    },
    {
      "cell_type": "code",
      "execution_count": null,
      "id": "qT5OQ6yY8H4C",
      "metadata": {
        "id": "qT5OQ6yY8H4C"
      },
      "outputs": [],
      "source": [
        "lr_acc = accuracy_score(y_test,y_pred)"
      ]
    },
    {
      "cell_type": "markdown",
      "id": "c7029a7d",
      "metadata": {
        "id": "c7029a7d"
      },
      "source": [
        "## KNN CLASSIFIER"
      ]
    },
    {
      "cell_type": "code",
      "execution_count": null,
      "id": "RkcfWghH8a_b",
      "metadata": {
        "id": "RkcfWghH8a_b"
      },
      "outputs": [],
      "source": [
        "leaf_size = list(range(1,30))\n",
        "n_neighbors = list(range(1,20))\n",
        "p=[1,2]\n",
        "\n",
        "hyperparameters = dict(leaf_size=leaf_size, n_neighbors=n_neighbors, p=p)"
      ]
    },
    {
      "cell_type": "code",
      "execution_count": null,
      "id": "HNvfHtFJ8a9q",
      "metadata": {
        "id": "HNvfHtFJ8a9q"
      },
      "outputs": [],
      "source": [
        "knn = KNeighborsClassifier()"
      ]
    },
    {
      "cell_type": "code",
      "execution_count": null,
      "id": "VcD--opB8a76",
      "metadata": {
        "id": "VcD--opB8a76"
      },
      "outputs": [],
      "source": [
        "clf = GridSearchCV(knn, hyperparameters, cv=5, n_jobs=-1)"
      ]
    },
    {
      "cell_type": "code",
      "execution_count": null,
      "id": "LQb9xZ858a6n",
      "metadata": {
        "id": "LQb9xZ858a6n",
        "outputId": "378f1f7c-7777-4b67-8a44-ae95174f5654"
      },
      "outputs": [
        {
          "data": {
            "text/plain": [
              "GridSearchCV(cv=5, estimator=KNeighborsClassifier(), n_jobs=-1,\n",
              "             param_grid={'leaf_size': [1, 2, 3, 4, 5, 6, 7, 8, 9, 10, 11, 12,\n",
              "                                       13, 14, 15, 16, 17, 18, 19, 20, 21, 22,\n",
              "                                       23, 24, 25, 26, 27, 28, 29],\n",
              "                         'n_neighbors': [1, 2, 3, 4, 5, 6, 7, 8, 9, 10, 11, 12,\n",
              "                                         13, 14, 15, 16, 17, 18, 19],\n",
              "                         'p': [1, 2]})"
            ]
          },
          "execution_count": 40,
          "metadata": {},
          "output_type": "execute_result"
        }
      ],
      "source": [
        "clf.fit(X_train,y_train)"
      ]
    },
    {
      "cell_type": "code",
      "execution_count": null,
      "id": "KtwJsDtB8ayZ",
      "metadata": {
        "id": "KtwJsDtB8ayZ",
        "outputId": "e467cdf0-c2af-496e-fe24-64e8d3bbf983"
      },
      "outputs": [
        {
          "data": {
            "text/plain": [
              "{'leaf_size': 16, 'n_neighbors': 5, 'p': 2}"
            ]
          },
          "execution_count": 41,
          "metadata": {},
          "output_type": "execute_result"
        }
      ],
      "source": [
        "clf.best_params_"
      ]
    },
    {
      "cell_type": "code",
      "execution_count": null,
      "id": "A6bJR9l48avy",
      "metadata": {
        "id": "A6bJR9l48avy"
      },
      "outputs": [],
      "source": [
        "knn = KNeighborsClassifier(**clf.best_params_)"
      ]
    },
    {
      "cell_type": "code",
      "execution_count": null,
      "id": "XUm0i-wf8mtg",
      "metadata": {
        "id": "XUm0i-wf8mtg",
        "outputId": "d0718857-a550-4151-bc9b-935c816d31ea"
      },
      "outputs": [
        {
          "data": {
            "text/plain": [
              "KNeighborsClassifier(leaf_size=16)"
            ]
          },
          "execution_count": 43,
          "metadata": {},
          "output_type": "execute_result"
        }
      ],
      "source": [
        "knn.fit(X_train,y_train)"
      ]
    },
    {
      "cell_type": "code",
      "execution_count": null,
      "id": "RhMQQ5U38mjt",
      "metadata": {
        "id": "RhMQQ5U38mjt"
      },
      "outputs": [],
      "source": [
        "y_pred = knn.predict(X_test)"
      ]
    },
    {
      "cell_type": "code",
      "execution_count": null,
      "id": "eYexgVdS8mh7",
      "metadata": {
        "id": "eYexgVdS8mh7",
        "outputId": "bd49922b-8e8c-482e-b978-66ef6cf0f687"
      },
      "outputs": [
        {
          "name": "stdout",
          "output_type": "stream",
          "text": [
            "              precision    recall  f1-score   support\n",
            "\n",
            "           1       0.95      0.99      0.97       358\n",
            "           2       0.89      0.82      0.85       118\n",
            "           3       0.89      0.71      0.79        24\n",
            "           4       0.87      0.68      0.76        19\n",
            "\n",
            "    accuracy                           0.93       519\n",
            "   macro avg       0.90      0.80      0.85       519\n",
            "weighted avg       0.93      0.93      0.93       519\n",
            "\n"
          ]
        }
      ],
      "source": [
        "print(classification_report(y_test,y_pred))"
      ]
    },
    {
      "cell_type": "code",
      "execution_count": null,
      "id": "lw1cFMyV8meE",
      "metadata": {
        "id": "lw1cFMyV8meE"
      },
      "outputs": [],
      "source": [
        "knn_acc = accuracy_score(y_test,y_pred)"
      ]
    },
    {
      "cell_type": "markdown",
      "id": "2eb5a5f4",
      "metadata": {
        "id": "2eb5a5f4"
      },
      "source": [
        "## DECISION TREE CLASSIFIER"
      ]
    },
    {
      "cell_type": "code",
      "execution_count": null,
      "id": "dfeebf68",
      "metadata": {
        "id": "dfeebf68"
      },
      "outputs": [],
      "source": [
        "dtree = DecisionTreeClassifier()"
      ]
    },
    {
      "cell_type": "code",
      "execution_count": null,
      "id": "0wfSDYUa9Ojt",
      "metadata": {
        "id": "0wfSDYUa9Ojt"
      },
      "outputs": [],
      "source": [
        "dtree_grid = {'criterion':['gini','entropy'],\n",
        "              'max_depth': [int(x) for x in np.linspace(10, 90, num = 9)],\n",
        "              'min_samples_split': [2, 5, 10],\n",
        "              'min_samples_leaf': [1, 2, 4],\n",
        "              'splitter' : [\"best\", \"random\"]\n",
        "             }"
      ]
    },
    {
      "cell_type": "code",
      "execution_count": null,
      "id": "8BflsHtY9Sg3",
      "metadata": {
        "id": "8BflsHtY9Sg3"
      },
      "outputs": [],
      "source": [
        "dtree_grid = GridSearchCV(estimator=dtree, \n",
        "                          param_grid=dtree_grid, \n",
        "                          cv=5, \n",
        "                          n_jobs=-1,\n",
        "                          scoring=\"accuracy\")"
      ]
    },
    {
      "cell_type": "code",
      "execution_count": null,
      "id": "d1c65353",
      "metadata": {
        "id": "d1c65353",
        "outputId": "308a0b37-ec15-49d2-bf52-5dfb7de9128d"
      },
      "outputs": [
        {
          "data": {
            "text/plain": [
              "GridSearchCV(cv=5, estimator=DecisionTreeClassifier(), n_jobs=-1,\n",
              "             param_grid={'criterion': ['gini', 'entropy'],\n",
              "                         'max_depth': [10, 20, 30, 40, 50, 60, 70, 80, 90],\n",
              "                         'min_samples_leaf': [1, 2, 4],\n",
              "                         'min_samples_split': [2, 5, 10],\n",
              "                         'splitter': ['best', 'random']},\n",
              "             scoring='accuracy')"
            ]
          },
          "execution_count": 50,
          "metadata": {},
          "output_type": "execute_result"
        }
      ],
      "source": [
        "dtree_grid.fit(X_train,y_train)"
      ]
    },
    {
      "cell_type": "code",
      "execution_count": null,
      "id": "DI7Q6k_I9cr3",
      "metadata": {
        "id": "DI7Q6k_I9cr3",
        "outputId": "96e428d2-de8a-41b7-b93d-34e51ae8cd8f"
      },
      "outputs": [
        {
          "data": {
            "text/plain": [
              "{'criterion': 'entropy',\n",
              " 'max_depth': 20,\n",
              " 'min_samples_leaf': 1,\n",
              " 'min_samples_split': 2,\n",
              " 'splitter': 'best'}"
            ]
          },
          "execution_count": 51,
          "metadata": {},
          "output_type": "execute_result"
        }
      ],
      "source": [
        "dtree_grid.best_params_"
      ]
    },
    {
      "cell_type": "code",
      "execution_count": null,
      "id": "exjcOik69fLN",
      "metadata": {
        "id": "exjcOik69fLN"
      },
      "outputs": [],
      "source": [
        "dtree = DecisionTreeClassifier(**dtree_grid.best_params_)"
      ]
    },
    {
      "cell_type": "code",
      "execution_count": null,
      "id": "0ry4a1SP9fAl",
      "metadata": {
        "id": "0ry4a1SP9fAl",
        "outputId": "3d4253ad-f3d4-4296-a80b-9e4af130b57f"
      },
      "outputs": [
        {
          "data": {
            "text/plain": [
              "DecisionTreeClassifier(criterion='entropy', max_depth=20)"
            ]
          },
          "execution_count": 53,
          "metadata": {},
          "output_type": "execute_result"
        }
      ],
      "source": [
        "dtree.fit(X_train,y_train)"
      ]
    },
    {
      "cell_type": "code",
      "execution_count": null,
      "id": "87985ce7",
      "metadata": {
        "id": "87985ce7"
      },
      "outputs": [],
      "source": [
        "y_pred = dtree.predict(X_test)"
      ]
    },
    {
      "cell_type": "code",
      "execution_count": null,
      "id": "dd094ab2",
      "metadata": {
        "id": "dd094ab2",
        "scrolled": true,
        "outputId": "455cd15e-eb0a-46a8-8dc7-13edfaef7bc6"
      },
      "outputs": [
        {
          "name": "stdout",
          "output_type": "stream",
          "text": [
            "              precision    recall  f1-score   support\n",
            "\n",
            "           1       0.99      1.00      1.00       358\n",
            "           2       0.96      0.92      0.94       118\n",
            "           3       0.90      0.79      0.84        24\n",
            "           4       0.71      0.89      0.79        19\n",
            "\n",
            "    accuracy                           0.97       519\n",
            "   macro avg       0.89      0.90      0.89       519\n",
            "weighted avg       0.97      0.97      0.97       519\n",
            "\n"
          ]
        }
      ],
      "source": [
        "print(classification_report(y_test,y_pred))"
      ]
    },
    {
      "cell_type": "code",
      "execution_count": null,
      "id": "xvzBPz149paO",
      "metadata": {
        "id": "xvzBPz149paO"
      },
      "outputs": [],
      "source": [
        "dtc_acc = accuracy_score(y_test,y_pred)"
      ]
    },
    {
      "cell_type": "markdown",
      "id": "91ece5b7",
      "metadata": {
        "id": "91ece5b7"
      },
      "source": [
        "# Random Forest Classifier"
      ]
    },
    {
      "cell_type": "code",
      "execution_count": null,
      "id": "28b907a4",
      "metadata": {
        "id": "28b907a4"
      },
      "outputs": [],
      "source": [
        "rf = RandomForestClassifier()"
      ]
    },
    {
      "cell_type": "code",
      "execution_count": null,
      "id": "NgAtM3-p90OD",
      "metadata": {
        "id": "NgAtM3-p90OD"
      },
      "outputs": [],
      "source": [
        "n_estimators = [int(x) for x in np.linspace(start = 100, stop = 1000, num = 10)]\n",
        "criterion = ['gini', 'entropy']\n",
        "max_depth = [int(x) for x in np.linspace(10, 90, num = 9)]\n",
        "max_depth.append(None)\n",
        "\n",
        "min_samples_split = [2, 5, 10]\n",
        "min_samples_leaf = [1, 2, 4]\n",
        "bootstrap = [True, False]\n",
        "oob_score = [True, False]"
      ]
    },
    {
      "cell_type": "code",
      "execution_count": null,
      "id": "JwiX2TLF96p9",
      "metadata": {
        "id": "JwiX2TLF96p9"
      },
      "outputs": [],
      "source": [
        "grid = {'n_estimators': n_estimators,\n",
        "               'criterion': criterion,\n",
        "               'max_depth': max_depth,\n",
        "               'min_samples_split': min_samples_split,\n",
        "               'min_samples_leaf': min_samples_leaf,\n",
        "               'bootstrap': bootstrap,\n",
        "               'oob_score': oob_score}"
      ]
    },
    {
      "cell_type": "code",
      "execution_count": null,
      "id": "_vs7eIy1-ARO",
      "metadata": {
        "id": "_vs7eIy1-ARO"
      },
      "outputs": [],
      "source": [
        "rfc_rand = RandomizedSearchCV(estimator = rf, \n",
        "                               param_distributions = grid, \n",
        "                               n_iter = 1000, \n",
        "                               cv = 5, \n",
        "                               verbose=2, \n",
        "                               random_state=42, \n",
        "                               n_jobs = -1)"
      ]
    },
    {
      "cell_type": "code",
      "execution_count": null,
      "id": "8caaee70",
      "metadata": {
        "id": "8caaee70",
        "outputId": "ce98e62c-ae9d-4c83-f10e-c27e9d15cf14"
      },
      "outputs": [
        {
          "name": "stdout",
          "output_type": "stream",
          "text": [
            "Fitting 5 folds for each of 1000 candidates, totalling 5000 fits\n"
          ]
        },
        {
          "data": {
            "text/plain": [
              "RandomizedSearchCV(cv=5, estimator=RandomForestClassifier(), n_iter=1000,\n",
              "                   n_jobs=-1,\n",
              "                   param_distributions={'bootstrap': [True, False],\n",
              "                                        'criterion': ['gini', 'entropy'],\n",
              "                                        'max_depth': [10, 20, 30, 40, 50, 60,\n",
              "                                                      70, 80, 90, None],\n",
              "                                        'min_samples_leaf': [1, 2, 4],\n",
              "                                        'min_samples_split': [2, 5, 10],\n",
              "                                        'n_estimators': [100, 200, 300, 400,\n",
              "                                                         500, 600, 700, 800,\n",
              "                                                         900, 1000],\n",
              "                                        'oob_score': [True, False]},\n",
              "                   random_state=42, verbose=2)"
            ]
          },
          "execution_count": 61,
          "metadata": {},
          "output_type": "execute_result"
        }
      ],
      "source": [
        "rfc_rand.fit(X_train,y_train)"
      ]
    },
    {
      "cell_type": "code",
      "execution_count": null,
      "id": "VMlsEuD6Zzf9",
      "metadata": {
        "id": "VMlsEuD6Zzf9",
        "outputId": "8e30e8f8-b918-42be-b777-0edf34a56876"
      },
      "outputs": [
        {
          "data": {
            "text/plain": [
              "{'oob_score': False,\n",
              " 'n_estimators': 900,\n",
              " 'min_samples_split': 2,\n",
              " 'min_samples_leaf': 1,\n",
              " 'max_depth': 30,\n",
              " 'criterion': 'entropy',\n",
              " 'bootstrap': False}"
            ]
          },
          "execution_count": 62,
          "metadata": {},
          "output_type": "execute_result"
        }
      ],
      "source": [
        "rfc_rand.best_params_"
      ]
    },
    {
      "cell_type": "code",
      "execution_count": null,
      "id": "p-WSewAgZ22W",
      "metadata": {
        "id": "p-WSewAgZ22W"
      },
      "outputs": [],
      "source": [
        "rfc = RandomForestClassifier(**rfc_rand.best_params_)"
      ]
    },
    {
      "cell_type": "code",
      "execution_count": null,
      "id": "256bbdba",
      "metadata": {
        "id": "256bbdba",
        "outputId": "01e53598-c181-4438-c155-73f1b88741f1"
      },
      "outputs": [
        {
          "data": {
            "text/plain": [
              "RandomForestClassifier(bootstrap=False, criterion='entropy', max_depth=30,\n",
              "                       n_estimators=900)"
            ]
          },
          "execution_count": 64,
          "metadata": {},
          "output_type": "execute_result"
        }
      ],
      "source": [
        "rfc.fit(X_train,y_train)"
      ]
    },
    {
      "cell_type": "code",
      "execution_count": null,
      "id": "86faddc9",
      "metadata": {
        "id": "86faddc9"
      },
      "outputs": [],
      "source": [
        "y_pred = rfc.predict(X_test)"
      ]
    },
    {
      "cell_type": "code",
      "execution_count": null,
      "id": "25146709",
      "metadata": {
        "id": "25146709",
        "outputId": "60f34721-7c9a-4276-cf2c-f30478271c73"
      },
      "outputs": [
        {
          "name": "stdout",
          "output_type": "stream",
          "text": [
            "              precision    recall  f1-score   support\n",
            "\n",
            "           1       0.99      0.99      0.99       358\n",
            "           2       0.95      0.91      0.93       118\n",
            "           3       0.87      0.83      0.85        24\n",
            "           4       0.72      0.95      0.82        19\n",
            "\n",
            "    accuracy                           0.96       519\n",
            "   macro avg       0.88      0.92      0.90       519\n",
            "weighted avg       0.97      0.96      0.96       519\n",
            "\n"
          ]
        }
      ],
      "source": [
        "print(classification_report(y_test,y_pred))"
      ]
    },
    {
      "cell_type": "code",
      "execution_count": null,
      "id": "bRXGXXLg_auJ",
      "metadata": {
        "id": "bRXGXXLg_auJ"
      },
      "outputs": [],
      "source": [
        "rf_acc = accuracy_score(y_test,y_pred)"
      ]
    },
    {
      "cell_type": "markdown",
      "id": "lUJzKf1rH-IC",
      "metadata": {
        "id": "lUJzKf1rH-IC"
      },
      "source": [
        "## SVC"
      ]
    },
    {
      "cell_type": "code",
      "execution_count": null,
      "id": "qo_JbGU-H9fY",
      "metadata": {
        "id": "qo_JbGU-H9fY"
      },
      "outputs": [],
      "source": [
        "param_grid = {'C': [0.1, 1, 10, 100, 1000],\n",
        "              'gamma': [1, 0.1, 0.01, 0.001, 0.0001],\n",
        "              'kernel': ['rbf','linear'],\n",
        "              'decision_function_shape':['ovo','ovr']}"
      ]
    },
    {
      "cell_type": "code",
      "execution_count": null,
      "id": "IqppIwSO_apC",
      "metadata": {
        "id": "IqppIwSO_apC"
      },
      "outputs": [],
      "source": [
        "svc_gs = GridSearchCV(SVC(), param_grid, refit = True, verbose = 3, n_jobs=-1)"
      ]
    },
    {
      "cell_type": "code",
      "execution_count": null,
      "id": "zPMhXnpl_ahh",
      "metadata": {
        "id": "zPMhXnpl_ahh",
        "outputId": "c5dd395c-91d1-4d8c-8239-6df44428dfc1"
      },
      "outputs": [
        {
          "name": "stdout",
          "output_type": "stream",
          "text": [
            "Fitting 5 folds for each of 100 candidates, totalling 500 fits\n"
          ]
        },
        {
          "data": {
            "text/plain": [
              "GridSearchCV(estimator=SVC(), n_jobs=-1,\n",
              "             param_grid={'C': [0.1, 1, 10, 100, 1000],\n",
              "                         'decision_function_shape': ['ovo', 'ovr'],\n",
              "                         'gamma': [1, 0.1, 0.01, 0.001, 0.0001],\n",
              "                         'kernel': ['rbf', 'linear']},\n",
              "             verbose=3)"
            ]
          },
          "execution_count": 70,
          "metadata": {},
          "output_type": "execute_result"
        }
      ],
      "source": [
        "svc_gs.fit(X_train, y_train)"
      ]
    },
    {
      "cell_type": "code",
      "execution_count": null,
      "id": "wLOyo8QgIaiU",
      "metadata": {
        "id": "wLOyo8QgIaiU",
        "outputId": "67fac500-c61a-4e41-be01-de2e464440af"
      },
      "outputs": [
        {
          "data": {
            "text/plain": [
              "{'C': 100, 'decision_function_shape': 'ovo', 'gamma': 0.1, 'kernel': 'rbf'}"
            ]
          },
          "execution_count": 71,
          "metadata": {},
          "output_type": "execute_result"
        }
      ],
      "source": [
        "svc_gs.best_params_"
      ]
    },
    {
      "cell_type": "code",
      "execution_count": null,
      "id": "_klKlYIIIae1",
      "metadata": {
        "id": "_klKlYIIIae1"
      },
      "outputs": [],
      "source": [
        "svc = SVC(**svc_gs.best_params_)"
      ]
    },
    {
      "cell_type": "code",
      "execution_count": null,
      "id": "-3pBzkCGIacQ",
      "metadata": {
        "id": "-3pBzkCGIacQ",
        "outputId": "95dff2ec-608d-434d-fffc-cc4977fbb0f9"
      },
      "outputs": [
        {
          "data": {
            "text/plain": [
              "SVC(C=100, decision_function_shape='ovo', gamma=0.1)"
            ]
          },
          "execution_count": 73,
          "metadata": {},
          "output_type": "execute_result"
        }
      ],
      "source": [
        "svc.fit(X_train,y_train)"
      ]
    },
    {
      "cell_type": "code",
      "execution_count": null,
      "id": "3gndW7NMIaaU",
      "metadata": {
        "id": "3gndW7NMIaaU"
      },
      "outputs": [],
      "source": [
        "y_pred = svc.predict(X_test)"
      ]
    },
    {
      "cell_type": "code",
      "execution_count": null,
      "id": "HqQgCoNZIaRm",
      "metadata": {
        "id": "HqQgCoNZIaRm",
        "outputId": "66a0d264-8ebb-491e-a893-b77671578097"
      },
      "outputs": [
        {
          "name": "stdout",
          "output_type": "stream",
          "text": [
            "              precision    recall  f1-score   support\n",
            "\n",
            "           1       0.99      0.99      0.99       358\n",
            "           2       0.97      0.95      0.96       118\n",
            "           3       0.92      0.92      0.92        24\n",
            "           4       0.85      0.89      0.87        19\n",
            "\n",
            "    accuracy                           0.98       519\n",
            "   macro avg       0.93      0.94      0.93       519\n",
            "weighted avg       0.98      0.98      0.98       519\n",
            "\n"
          ]
        }
      ],
      "source": [
        "print(classification_report(y_test,y_pred))"
      ]
    },
    {
      "cell_type": "code",
      "execution_count": null,
      "id": "Gf3bPHaUIaP2",
      "metadata": {
        "id": "Gf3bPHaUIaP2"
      },
      "outputs": [],
      "source": [
        "svc_acc = accuracy_score(y_test,y_pred)"
      ]
    },
    {
      "cell_type": "markdown",
      "id": "eUeXYOhWbXsL",
      "metadata": {
        "id": "eUeXYOhWbXsL"
      },
      "source": [
        "## NAIVE BAYES CLASSIFIER - BERNOULLI NB"
      ]
    },
    {
      "cell_type": "code",
      "execution_count": null,
      "id": "ac2e480a",
      "metadata": {
        "id": "ac2e480a"
      },
      "outputs": [],
      "source": [
        "BNB = BernoulliNB()"
      ]
    },
    {
      "cell_type": "code",
      "execution_count": null,
      "id": "ebdd7eba",
      "metadata": {
        "id": "ebdd7eba"
      },
      "outputs": [],
      "source": [
        "params_NB = {'alpha': [0.01, 0.1, 0.5, 1.0, 10.0]}"
      ]
    },
    {
      "cell_type": "code",
      "execution_count": null,
      "id": "ced62d4f",
      "metadata": {
        "id": "ced62d4f"
      },
      "outputs": [],
      "source": [
        "gs_NB = GridSearchCV(BNB, \n",
        "                     param_grid=params_NB, \n",
        "                     cv=5,\n",
        "                     verbose=3, \n",
        "                     scoring='accuracy',\n",
        "                     n_jobs=-1)"
      ]
    },
    {
      "cell_type": "code",
      "execution_count": null,
      "id": "4ed8e233",
      "metadata": {
        "id": "4ed8e233",
        "outputId": "22dd49e4-0709-4026-913e-c0f1e5bee128"
      },
      "outputs": [
        {
          "name": "stdout",
          "output_type": "stream",
          "text": [
            "Fitting 5 folds for each of 5 candidates, totalling 25 fits\n"
          ]
        },
        {
          "data": {
            "text/plain": [
              "GridSearchCV(cv=5, estimator=BernoulliNB(), n_jobs=-1,\n",
              "             param_grid={'alpha': [0.01, 0.1, 0.5, 1.0, 10.0]},\n",
              "             scoring='accuracy', verbose=3)"
            ]
          },
          "execution_count": 80,
          "metadata": {},
          "output_type": "execute_result"
        }
      ],
      "source": [
        "gs_NB.fit(X_train,y_train)"
      ]
    },
    {
      "cell_type": "code",
      "execution_count": null,
      "id": "64c60030",
      "metadata": {
        "id": "64c60030"
      },
      "outputs": [],
      "source": [
        "BNB = BernoulliNB(**gs_NB.best_params_)"
      ]
    },
    {
      "cell_type": "code",
      "execution_count": null,
      "id": "27ac41c5",
      "metadata": {
        "id": "27ac41c5",
        "outputId": "1b9aab78-a749-49b3-db24-5bae8a61d1f0"
      },
      "outputs": [
        {
          "data": {
            "text/plain": [
              "BernoulliNB(alpha=0.01)"
            ]
          },
          "execution_count": 82,
          "metadata": {},
          "output_type": "execute_result"
        }
      ],
      "source": [
        "BNB.fit(X_train,y_train)"
      ]
    },
    {
      "cell_type": "code",
      "execution_count": null,
      "id": "afa27e5f",
      "metadata": {
        "id": "afa27e5f"
      },
      "outputs": [],
      "source": [
        "y_pred = BNB.predict(X_test)"
      ]
    },
    {
      "cell_type": "code",
      "execution_count": null,
      "id": "34f3fee5",
      "metadata": {
        "id": "34f3fee5",
        "outputId": "203f3f35-3090-4284-8445-fc481de67f64"
      },
      "outputs": [
        {
          "name": "stdout",
          "output_type": "stream",
          "text": [
            "              precision    recall  f1-score   support\n",
            "\n",
            "           1       0.69      1.00      0.82       358\n",
            "           2       0.00      0.00      0.00       118\n",
            "           3       0.00      0.00      0.00        24\n",
            "           4       0.00      0.00      0.00        19\n",
            "\n",
            "    accuracy                           0.69       519\n",
            "   macro avg       0.17      0.25      0.20       519\n",
            "weighted avg       0.48      0.69      0.56       519\n",
            "\n"
          ]
        }
      ],
      "source": [
        "print(classification_report(y_test,y_pred))"
      ]
    },
    {
      "cell_type": "code",
      "execution_count": null,
      "id": "090d85a2",
      "metadata": {
        "id": "090d85a2"
      },
      "outputs": [],
      "source": [
        "bnb_acc = accuracy_score(y_test,y_pred)"
      ]
    },
    {
      "cell_type": "markdown",
      "id": "5a8d7daf",
      "metadata": {
        "id": "5a8d7daf"
      },
      "source": [
        "## NAIVE BAYES CLASSIFIER - GAUSSIAN NB"
      ]
    },
    {
      "cell_type": "code",
      "execution_count": null,
      "id": "S8cHhKhNdTun",
      "metadata": {
        "id": "S8cHhKhNdTun"
      },
      "outputs": [],
      "source": [
        "GNB = GaussianNB()"
      ]
    },
    {
      "cell_type": "code",
      "execution_count": null,
      "id": "Z8qhXsr6bXf5",
      "metadata": {
        "id": "Z8qhXsr6bXf5"
      },
      "outputs": [],
      "source": [
        "params_NB = {'var_smoothing': np.logspace(0,-9, num=100)}"
      ]
    },
    {
      "cell_type": "code",
      "execution_count": null,
      "id": "vjoe6awVbXYr",
      "metadata": {
        "id": "vjoe6awVbXYr"
      },
      "outputs": [],
      "source": [
        "gs_NB = GridSearchCV(GNB, \n",
        "                     param_grid=params_NB, \n",
        "                     cv=5,\n",
        "                     verbose=3, \n",
        "                     scoring='accuracy',\n",
        "                     n_jobs=-1)"
      ]
    },
    {
      "cell_type": "code",
      "execution_count": null,
      "id": "nQcJRr2bbXVI",
      "metadata": {
        "id": "nQcJRr2bbXVI",
        "outputId": "892dc8e5-89b1-4a1c-c9c6-c67545765d53"
      },
      "outputs": [
        {
          "name": "stdout",
          "output_type": "stream",
          "text": [
            "Fitting 5 folds for each of 100 candidates, totalling 500 fits\n"
          ]
        },
        {
          "data": {
            "text/plain": [
              "GridSearchCV(cv=5, estimator=GaussianNB(), n_jobs=-1,\n",
              "             param_grid={'var_smoothing': array([1.00000000e+00, 8.11130831e-01, 6.57933225e-01, 5.33669923e-01,\n",
              "       4.32876128e-01, 3.51119173e-01, 2.84803587e-01, 2.31012970e-01,\n",
              "       1.87381742e-01, 1.51991108e-01, 1.23284674e-01, 1.00000000e-01,\n",
              "       8.11130831e-02, 6.57933225e-02, 5.33669923e-02, 4.32876128e-02,\n",
              "       3.51119173e-02, 2.8480358...\n",
              "       1.23284674e-07, 1.00000000e-07, 8.11130831e-08, 6.57933225e-08,\n",
              "       5.33669923e-08, 4.32876128e-08, 3.51119173e-08, 2.84803587e-08,\n",
              "       2.31012970e-08, 1.87381742e-08, 1.51991108e-08, 1.23284674e-08,\n",
              "       1.00000000e-08, 8.11130831e-09, 6.57933225e-09, 5.33669923e-09,\n",
              "       4.32876128e-09, 3.51119173e-09, 2.84803587e-09, 2.31012970e-09,\n",
              "       1.87381742e-09, 1.51991108e-09, 1.23284674e-09, 1.00000000e-09])},\n",
              "             scoring='accuracy', verbose=3)"
            ]
          },
          "execution_count": 89,
          "metadata": {},
          "output_type": "execute_result"
        }
      ],
      "source": [
        "gs_NB.fit(X_train,y_train)"
      ]
    },
    {
      "cell_type": "code",
      "execution_count": null,
      "id": "8TguOuTVbW1H",
      "metadata": {
        "id": "8TguOuTVbW1H"
      },
      "outputs": [],
      "source": [
        "GNB = GaussianNB(**gs_NB.best_params_)"
      ]
    },
    {
      "cell_type": "code",
      "execution_count": null,
      "id": "DV6MOwDjbWxN",
      "metadata": {
        "id": "DV6MOwDjbWxN",
        "outputId": "acbf1f13-e850-47cc-8809-2c4e1d900029"
      },
      "outputs": [
        {
          "data": {
            "text/plain": [
              "GaussianNB(var_smoothing=0.02310129700083159)"
            ]
          },
          "execution_count": 91,
          "metadata": {},
          "output_type": "execute_result"
        }
      ],
      "source": [
        "GNB.fit(X_train,y_train)"
      ]
    },
    {
      "cell_type": "code",
      "execution_count": null,
      "id": "p_HH0ej1bWte",
      "metadata": {
        "id": "p_HH0ej1bWte"
      },
      "outputs": [],
      "source": [
        "y_pred = GNB.predict(X_test)"
      ]
    },
    {
      "cell_type": "code",
      "execution_count": null,
      "id": "ONMvdW4PbWmb",
      "metadata": {
        "id": "ONMvdW4PbWmb",
        "outputId": "4943780f-edca-40f7-e0ea-fc4ccbe51cce"
      },
      "outputs": [
        {
          "name": "stdout",
          "output_type": "stream",
          "text": [
            "              precision    recall  f1-score   support\n",
            "\n",
            "           1       0.86      0.95      0.90       358\n",
            "           2       0.65      0.49      0.56       118\n",
            "           3       0.83      0.79      0.81        24\n",
            "           4       0.50      0.32      0.39        19\n",
            "\n",
            "    accuracy                           0.81       519\n",
            "   macro avg       0.71      0.64      0.66       519\n",
            "weighted avg       0.80      0.81      0.80       519\n",
            "\n"
          ]
        }
      ],
      "source": [
        "print(classification_report(y_test,y_pred))"
      ]
    },
    {
      "cell_type": "code",
      "execution_count": null,
      "id": "1x1iIGYsbWkx",
      "metadata": {
        "id": "1x1iIGYsbWkx"
      },
      "outputs": [],
      "source": [
        "gnb_acc = accuracy_score(y_test,y_pred)"
      ]
    },
    {
      "cell_type": "markdown",
      "id": "643e270f",
      "metadata": {
        "id": "643e270f"
      },
      "source": [
        "## ADABOOST"
      ]
    },
    {
      "cell_type": "code",
      "execution_count": null,
      "id": "5db12c32",
      "metadata": {
        "id": "5db12c32"
      },
      "outputs": [],
      "source": [
        "abc = AdaBoostClassifier()"
      ]
    },
    {
      "cell_type": "code",
      "execution_count": null,
      "id": "66ab4c98",
      "metadata": {
        "id": "66ab4c98",
        "outputId": "cb8282c7-5ebe-47c6-dac6-c7724648b531"
      },
      "outputs": [
        {
          "data": {
            "text/plain": [
              "AdaBoostClassifier()"
            ]
          },
          "execution_count": 96,
          "metadata": {},
          "output_type": "execute_result"
        }
      ],
      "source": [
        "abc.fit(X_train,y_train)"
      ]
    },
    {
      "cell_type": "code",
      "execution_count": null,
      "id": "0d7f95e9",
      "metadata": {
        "id": "0d7f95e9"
      },
      "outputs": [],
      "source": [
        "y_pred = abc.predict(X_test)"
      ]
    },
    {
      "cell_type": "code",
      "execution_count": null,
      "id": "b72bdb67",
      "metadata": {
        "id": "b72bdb67",
        "outputId": "faf9fb80-d8cb-4a66-d661-83e2386300bb"
      },
      "outputs": [
        {
          "name": "stdout",
          "output_type": "stream",
          "text": [
            "              precision    recall  f1-score   support\n",
            "\n",
            "           1       0.96      0.87      0.91       358\n",
            "           2       0.62      0.63      0.62       118\n",
            "           3       0.53      1.00      0.70        24\n",
            "           4       0.57      0.84      0.68        19\n",
            "\n",
            "    accuracy                           0.82       519\n",
            "   macro avg       0.67      0.84      0.73       519\n",
            "weighted avg       0.85      0.82      0.83       519\n",
            "\n"
          ]
        }
      ],
      "source": [
        "print(classification_report(y_test,y_pred))"
      ]
    },
    {
      "cell_type": "code",
      "execution_count": null,
      "id": "9f40be13",
      "metadata": {
        "id": "9f40be13"
      },
      "outputs": [],
      "source": [
        "abc_acc = accuracy_score(y_test,y_pred)"
      ]
    },
    {
      "cell_type": "markdown",
      "id": "5428fe83",
      "metadata": {
        "id": "5428fe83"
      },
      "source": [
        "## GRADIENT BOOSTING"
      ]
    },
    {
      "cell_type": "code",
      "execution_count": null,
      "id": "c261343a",
      "metadata": {
        "id": "c261343a"
      },
      "outputs": [],
      "source": [
        "gbc = GradientBoostingClassifier()"
      ]
    },
    {
      "cell_type": "code",
      "execution_count": null,
      "id": "673faf74",
      "metadata": {
        "id": "673faf74",
        "outputId": "8ed2f1f4-9a47-4189-9ffb-757c9da1904a"
      },
      "outputs": [
        {
          "data": {
            "text/plain": [
              "GradientBoostingClassifier()"
            ]
          },
          "execution_count": 101,
          "metadata": {},
          "output_type": "execute_result"
        }
      ],
      "source": [
        "gbc.fit(X_train,y_train)"
      ]
    },
    {
      "cell_type": "code",
      "execution_count": null,
      "id": "9f4b3e28",
      "metadata": {
        "id": "9f4b3e28"
      },
      "outputs": [],
      "source": [
        "y_pred = gbc.predict(X_test)"
      ]
    },
    {
      "cell_type": "code",
      "execution_count": null,
      "id": "9d4db544",
      "metadata": {
        "id": "9d4db544",
        "outputId": "f6708e63-023a-4825-c3d2-11079ec557a2"
      },
      "outputs": [
        {
          "name": "stdout",
          "output_type": "stream",
          "text": [
            "              precision    recall  f1-score   support\n",
            "\n",
            "           1       1.00      1.00      1.00       358\n",
            "           2       0.97      0.92      0.94       118\n",
            "           3       0.84      0.88      0.86        24\n",
            "           4       0.65      0.89      0.76        19\n",
            "\n",
            "    accuracy                           0.97       519\n",
            "   macro avg       0.87      0.92      0.89       519\n",
            "weighted avg       0.97      0.97      0.97       519\n",
            "\n"
          ]
        }
      ],
      "source": [
        "print(classification_report(y_test,y_pred))"
      ]
    },
    {
      "cell_type": "code",
      "execution_count": null,
      "id": "fc9d92db",
      "metadata": {
        "id": "fc9d92db"
      },
      "outputs": [],
      "source": [
        "gbc_acc = accuracy_score(y_test,y_pred)"
      ]
    },
    {
      "cell_type": "markdown",
      "id": "754e2c0e",
      "metadata": {
        "id": "754e2c0e"
      },
      "source": [
        "## XGBCLASSIFIER"
      ]
    },
    {
      "cell_type": "code",
      "execution_count": null,
      "id": "f8680ba9",
      "metadata": {
        "id": "f8680ba9"
      },
      "outputs": [],
      "source": [
        "xgc = XGBClassifier()"
      ]
    },
    {
      "cell_type": "code",
      "execution_count": null,
      "id": "b5a559b1",
      "metadata": {
        "id": "b5a559b1",
        "outputId": "64881a90-884d-45c5-9504-5ffc63b7270c"
      },
      "outputs": [
        {
          "name": "stdout",
          "output_type": "stream",
          "text": [
            "[23:30:40] WARNING: C:/Users/Administrator/workspace/xgboost-win64_release_1.5.1/src/learner.cc:1115: Starting in XGBoost 1.3.0, the default evaluation metric used with the objective 'multi:softprob' was changed from 'merror' to 'mlogloss'. Explicitly set eval_metric if you'd like to restore the old behavior.\n"
          ]
        },
        {
          "data": {
            "text/plain": [
              "XGBClassifier(base_score=0.5, booster='gbtree', colsample_bylevel=1,\n",
              "              colsample_bynode=1, colsample_bytree=1, enable_categorical=False,\n",
              "              gamma=0, gpu_id=-1, importance_type=None,\n",
              "              interaction_constraints='', learning_rate=0.300000012,\n",
              "              max_delta_step=0, max_depth=6, min_child_weight=1, missing=nan,\n",
              "              monotone_constraints='()', n_estimators=100, n_jobs=12,\n",
              "              num_parallel_tree=1, objective='multi:softprob', predictor='auto',\n",
              "              random_state=0, reg_alpha=0, reg_lambda=1, scale_pos_weight=None,\n",
              "              subsample=1, tree_method='exact', validate_parameters=1,\n",
              "              verbosity=None)"
            ]
          },
          "execution_count": 106,
          "metadata": {},
          "output_type": "execute_result"
        }
      ],
      "source": [
        "xgc.fit(X_train,y_train)"
      ]
    },
    {
      "cell_type": "code",
      "execution_count": null,
      "id": "893d2e14",
      "metadata": {
        "id": "893d2e14"
      },
      "outputs": [],
      "source": [
        "y_pred = xgc.predict(X_test)"
      ]
    },
    {
      "cell_type": "code",
      "execution_count": null,
      "id": "4f2eea94",
      "metadata": {
        "id": "4f2eea94",
        "outputId": "0c3d0e8c-94f2-4353-cd32-4c44d750a7ac"
      },
      "outputs": [
        {
          "name": "stdout",
          "output_type": "stream",
          "text": [
            "              precision    recall  f1-score   support\n",
            "\n",
            "           1       1.00      1.00      1.00       358\n",
            "           2       0.97      0.96      0.97       118\n",
            "           3       0.91      0.88      0.89        24\n",
            "           4       0.74      0.89      0.81        19\n",
            "\n",
            "    accuracy                           0.98       519\n",
            "   macro avg       0.91      0.93      0.92       519\n",
            "weighted avg       0.98      0.98      0.98       519\n",
            "\n"
          ]
        }
      ],
      "source": [
        "print(classification_report(y_test,y_pred))"
      ]
    },
    {
      "cell_type": "code",
      "execution_count": null,
      "id": "c703a571",
      "metadata": {
        "id": "c703a571"
      },
      "outputs": [],
      "source": [
        "xgb_acc = accuracy_score(y_test,y_pred)"
      ]
    },
    {
      "cell_type": "markdown",
      "id": "YmIYVfOVa4_a",
      "metadata": {
        "id": "YmIYVfOVa4_a"
      },
      "source": [
        "### COMPARING ALL THE MODELS"
      ]
    },
    {
      "cell_type": "code",
      "execution_count": null,
      "id": "ApmFQ3OKIaL5",
      "metadata": {
        "id": "ApmFQ3OKIaL5"
      },
      "outputs": [],
      "source": [
        "dict = {'Logistic Regression' : lr_acc,\n",
        "        'KNN Classifier': knn_acc,\n",
        "        'Decision Tree Classifier':dtc_acc,\n",
        "        'Random Forest Classifier': rf_acc,\n",
        "        'SVC Classifier': svc_acc,\n",
        "        'Bernoulli NB': bnb_acc,\n",
        "        'Gaussian NB': gnb_acc,\n",
        "        'Adaboost': abc_acc,\n",
        "        'Gradient Boosting': gbc_acc,\n",
        "        'Xgboost': xgb_acc,\n",
        "        }"
      ]
    },
    {
      "cell_type": "code",
      "execution_count": null,
      "id": "4c4f95bb",
      "metadata": {
        "id": "4c4f95bb",
        "outputId": "9422671d-4c7d-4428-9d78-e07a38a72300"
      },
      "outputs": [
        {
          "data": {
            "text/html": [
              "<div>\n",
              "<style scoped>\n",
              "    .dataframe tbody tr th:only-of-type {\n",
              "        vertical-align: middle;\n",
              "    }\n",
              "\n",
              "    .dataframe tbody tr th {\n",
              "        vertical-align: top;\n",
              "    }\n",
              "\n",
              "    .dataframe thead th {\n",
              "        text-align: right;\n",
              "    }\n",
              "</style>\n",
              "<table border=\"1\" class=\"dataframe\">\n",
              "  <thead>\n",
              "    <tr style=\"text-align: right;\">\n",
              "      <th></th>\n",
              "      <th>Accuracy Scores</th>\n",
              "    </tr>\n",
              "  </thead>\n",
              "  <tbody>\n",
              "    <tr>\n",
              "      <th>Xgboost</th>\n",
              "      <td>0.978805</td>\n",
              "    </tr>\n",
              "    <tr>\n",
              "      <th>SVC Classifier</th>\n",
              "      <td>0.976879</td>\n",
              "    </tr>\n",
              "    <tr>\n",
              "      <th>Decision Tree Classifier</th>\n",
              "      <td>0.969171</td>\n",
              "    </tr>\n",
              "    <tr>\n",
              "      <th>Gradient Boosting</th>\n",
              "      <td>0.969171</td>\n",
              "    </tr>\n",
              "    <tr>\n",
              "      <th>Random Forest Classifier</th>\n",
              "      <td>0.963391</td>\n",
              "    </tr>\n",
              "    <tr>\n",
              "      <th>KNN Classifier</th>\n",
              "      <td>0.930636</td>\n",
              "    </tr>\n",
              "    <tr>\n",
              "      <th>Logistic Regression</th>\n",
              "      <td>0.822736</td>\n",
              "    </tr>\n",
              "    <tr>\n",
              "      <th>Adaboost</th>\n",
              "      <td>0.822736</td>\n",
              "    </tr>\n",
              "    <tr>\n",
              "      <th>Gaussian NB</th>\n",
              "      <td>0.813102</td>\n",
              "    </tr>\n",
              "    <tr>\n",
              "      <th>Bernoulli NB</th>\n",
              "      <td>0.689788</td>\n",
              "    </tr>\n",
              "  </tbody>\n",
              "</table>\n",
              "</div>"
            ],
            "text/plain": [
              "                          Accuracy Scores\n",
              "Xgboost                          0.978805\n",
              "SVC Classifier                   0.976879\n",
              "Decision Tree Classifier         0.969171\n",
              "Gradient Boosting                0.969171\n",
              "Random Forest Classifier         0.963391\n",
              "KNN Classifier                   0.930636\n",
              "Logistic Regression              0.822736\n",
              "Adaboost                         0.822736\n",
              "Gaussian NB                      0.813102\n",
              "Bernoulli NB                     0.689788"
            ]
          },
          "execution_count": 111,
          "metadata": {},
          "output_type": "execute_result"
        }
      ],
      "source": [
        "pd.DataFrame(index= dict.keys(), data = dict.values(), columns=['Accuracy Scores']).sort_values(by=['Accuracy Scores'],ascending= False)"
      ]
    }
  ],
  "metadata": {
    "accelerator": "GPU",
    "colab": {
      "collapsed_sections": [],
      "name": "Car_Evaluation.ipynb",
      "provenance": [],
      "include_colab_link": true
    },
    "kernelspec": {
      "display_name": "Python 3 (ipykernel)",
      "language": "python",
      "name": "python3"
    },
    "language_info": {
      "codemirror_mode": {
        "name": "ipython",
        "version": 3
      },
      "file_extension": ".py",
      "mimetype": "text/x-python",
      "name": "python",
      "nbconvert_exporter": "python",
      "pygments_lexer": "ipython3",
      "version": "3.8.8"
    }
  },
  "nbformat": 4,
  "nbformat_minor": 5
}